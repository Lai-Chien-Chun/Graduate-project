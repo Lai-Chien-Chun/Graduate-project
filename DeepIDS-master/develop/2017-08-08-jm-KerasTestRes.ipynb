{
 "cells": [
  {
   "cell_type": "code",
   "execution_count": 1,
   "metadata": {},
   "outputs": [
    {
     "name": "stderr",
     "output_type": "stream",
     "text": [
      "Using TensorFlow backend.\n"
     ]
    }
   ],
   "source": [
    "import numpy as np\n",
    "from keras.models import Model, load_model\n",
    "from keras.layers import Dense, Input, Dropout, Activation\n",
    "from keras.layers.merge import Add\n",
    "from keras.layers.normalization import BatchNormalization\n",
    "from keras.initializers import he_normal\n",
    "from keras.optimizers import Adam\n",
    "from keras.callbacks import EarlyStopping, ModelCheckpoint"
   ]
  },
  {
   "cell_type": "code",
   "execution_count": 2,
   "metadata": {
    "collapsed": true
   },
   "outputs": [],
   "source": [
    "X_train = np.load('../data/X_train.npy', mmap_mode = 'r')\n",
    "y_train = np.load('../data/y_train_k.npy', mmap_mode = 'r')\n",
    "X_val = np.load('../data/X_val.npy', mmap_mode = 'r')\n",
    "y_val = np.load('../data/y_val_k.npy', mmap_mode = 'r')\n",
    "mean = np.mean(X_train, axis = 0)\n",
    "std = np.std(X_train, axis = 0)\n",
    "std[std == 0] = 1\n",
    "X_train = X_train - mean / std\n",
    "X_val = X_val - mean / std"
   ]
  },
  {
   "cell_type": "code",
   "execution_count": 3,
   "metadata": {
    "collapsed": true
   },
   "outputs": [],
   "source": [
    "def relu_drop_bn_block(ins, neurons, p=.2):\n",
    "    x = Dense(neurons, kernel_initializer = he_normal(seed=42))(ins)\n",
    "    x = Activation('relu')(x)\n",
    "    x = Dropout(p)(x)\n",
    "    x = BatchNormalization()(x)\n",
    "    y = Dense(neurons, kernel_initializer = he_normal(seed=42))(x)\n",
    "    y = Activation('relu')(y)\n",
    "    y = Dropout(p)(x)\n",
    "    y = BatchNormalization()(y)\n",
    "    y = Dense(neurons, kernel_initializer = he_normal(seed=42))(y)\n",
    "    y = Dropout(p)(y)\n",
    "    z = Add()([x,y])\n",
    "    return z"
   ]
  },
  {
   "cell_type": "code",
   "execution_count": 4,
   "metadata": {
    "collapsed": true
   },
   "outputs": [],
   "source": [
    "ins = Input(shape = (X_train.shape[1],))\n",
    "x0 = relu_drop_bn_block(ins, 2048)\n",
    "x1 = relu_drop_bn_block(x0, 2048)\n",
    "x2 = relu_drop_bn_block(x1, 1024)\n",
    "x3 = relu_drop_bn_block(x2, 1024)\n",
    "x4 = relu_drop_bn_block(x3, 512)\n",
    "x5 = relu_drop_bn_block(x4, 512)\n",
    "x6 = relu_drop_bn_block(x5, 256)\n",
    "x7 = relu_drop_bn_block(x6, 256)\n",
    "x8 = relu_drop_bn_block(x7, 128)\n",
    "x9 = relu_drop_bn_block(x8, 128)\n",
    "outs = Dense(y_train.shape[1], activation = 'softmax', kernel_initializer = he_normal(seed=42))(x9)\n",
    "\n",
    "model = Model(ins, outs)"
   ]
  },
  {
   "cell_type": "code",
   "execution_count": 5,
   "metadata": {
    "collapsed": true
   },
   "outputs": [],
   "source": [
    "opt = Adam()\n",
    "model.compile(opt, 'categorical_crossentropy', metrics = ['acc'])\n",
    "stopper = EarlyStopping(monitor='val_acc', patience = 3, mode='auto')\n",
    "checker = ModelCheckpoint('../src/ensemble/resModels/res_test_best_4', monitor='val_acc', mode='auto', save_best_only = True)"
   ]
  },
  {
   "cell_type": "code",
   "execution_count": 6,
   "metadata": {},
   "outputs": [
    {
     "name": "stdout",
     "output_type": "stream",
     "text": [
      "Train on 3428511 samples, validate on 736105 samples\n",
      "Epoch 1/100\n",
      "3428511/3428511 [==============================] - 3831s - loss: 0.0415 - acc: 0.9912 - val_loss: 0.1043 - val_acc: 0.9887\n",
      "Epoch 2/100\n",
      "3428511/3428511 [==============================] - 3858s - loss: 0.0211 - acc: 0.9955 - val_loss: 0.0935 - val_acc: 0.9919\n",
      "Epoch 3/100\n",
      "3428511/3428511 [==============================] - 3819s - loss: 0.0165 - acc: 0.9968 - val_loss: 0.1938 - val_acc: 0.9861\n",
      "Epoch 4/100\n",
      "3428511/3428511 [==============================] - 3749s - loss: 0.0139 - acc: 0.9974 - val_loss: 0.1387 - val_acc: 0.9901\n",
      "Epoch 5/100\n",
      "3428511/3428511 [==============================] - 3738s - loss: 0.0120 - acc: 0.9978 - val_loss: 0.1073 - val_acc: 0.9914\n",
      "Epoch 6/100\n",
      "3428511/3428511 [==============================] - 3735s - loss: 0.0110 - acc: 0.9980 - val_loss: 0.1062 - val_acc: 0.9918\n"
     ]
    },
    {
     "data": {
      "text/plain": [
       "<keras.callbacks.History at 0x7f6bf519b978>"
      ]
     },
     "execution_count": 6,
     "metadata": {},
     "output_type": "execute_result"
    }
   ],
   "source": [
    "model.fit(X_train, y_train,\n",
    "          epochs=100, batch_size=32,\n",
    "          validation_data=(X_val, y_val),\n",
    "          callbacks = [stopper, checker])"
   ]
  },
  {
   "cell_type": "code",
   "execution_count": 3,
   "metadata": {},
   "outputs": [],
   "source": [
    "model = load_model('../src/ensemble/res_best.h5')"
   ]
  },
  {
   "cell_type": "code",
   "execution_count": 4,
   "metadata": {},
   "outputs": [
    {
     "name": "stdout",
     "output_type": "stream",
     "text": [
      "____________________________________________________________________________________________________\n",
      "Layer (type)                     Output Shape          Param #     Connected to                     \n",
      "====================================================================================================\n",
      "input_1 (InputLayer)             (None, 122)           0                                            \n",
      "____________________________________________________________________________________________________\n",
      "dense_1 (Dense)                  (None, 2048)          251904      input_1[0][0]                    \n",
      "____________________________________________________________________________________________________\n",
      "activation_1 (Activation)        (None, 2048)          0           dense_1[0][0]                    \n",
      "____________________________________________________________________________________________________\n",
      "dropout_1 (Dropout)              (None, 2048)          0           activation_1[0][0]               \n",
      "____________________________________________________________________________________________________\n",
      "batch_normalization_1 (BatchNorm (None, 2048)          8192        dropout_1[0][0]                  \n",
      "____________________________________________________________________________________________________\n",
      "dropout_2 (Dropout)              (None, 2048)          0           batch_normalization_1[0][0]      \n",
      "____________________________________________________________________________________________________\n",
      "batch_normalization_2 (BatchNorm (None, 2048)          8192        dropout_2[0][0]                  \n",
      "____________________________________________________________________________________________________\n",
      "dense_3 (Dense)                  (None, 2048)          4196352     batch_normalization_2[0][0]      \n",
      "____________________________________________________________________________________________________\n",
      "dropout_3 (Dropout)              (None, 2048)          0           dense_3[0][0]                    \n",
      "____________________________________________________________________________________________________\n",
      "add_1 (Add)                      (None, 2048)          0           batch_normalization_1[0][0]      \n",
      "                                                                   dropout_3[0][0]                  \n",
      "____________________________________________________________________________________________________\n",
      "dense_4 (Dense)                  (None, 2048)          4196352     add_1[0][0]                      \n",
      "____________________________________________________________________________________________________\n",
      "activation_3 (Activation)        (None, 2048)          0           dense_4[0][0]                    \n",
      "____________________________________________________________________________________________________\n",
      "dropout_4 (Dropout)              (None, 2048)          0           activation_3[0][0]               \n",
      "____________________________________________________________________________________________________\n",
      "batch_normalization_3 (BatchNorm (None, 2048)          8192        dropout_4[0][0]                  \n",
      "____________________________________________________________________________________________________\n",
      "dropout_5 (Dropout)              (None, 2048)          0           batch_normalization_3[0][0]      \n",
      "____________________________________________________________________________________________________\n",
      "batch_normalization_4 (BatchNorm (None, 2048)          8192        dropout_5[0][0]                  \n",
      "____________________________________________________________________________________________________\n",
      "dense_6 (Dense)                  (None, 2048)          4196352     batch_normalization_4[0][0]      \n",
      "____________________________________________________________________________________________________\n",
      "dropout_6 (Dropout)              (None, 2048)          0           dense_6[0][0]                    \n",
      "____________________________________________________________________________________________________\n",
      "add_2 (Add)                      (None, 2048)          0           batch_normalization_3[0][0]      \n",
      "                                                                   dropout_6[0][0]                  \n",
      "____________________________________________________________________________________________________\n",
      "dense_7 (Dense)                  (None, 1024)          2098176     add_2[0][0]                      \n",
      "____________________________________________________________________________________________________\n",
      "activation_5 (Activation)        (None, 1024)          0           dense_7[0][0]                    \n",
      "____________________________________________________________________________________________________\n",
      "dropout_7 (Dropout)              (None, 1024)          0           activation_5[0][0]               \n",
      "____________________________________________________________________________________________________\n",
      "batch_normalization_5 (BatchNorm (None, 1024)          4096        dropout_7[0][0]                  \n",
      "____________________________________________________________________________________________________\n",
      "dropout_8 (Dropout)              (None, 1024)          0           batch_normalization_5[0][0]      \n",
      "____________________________________________________________________________________________________\n",
      "batch_normalization_6 (BatchNorm (None, 1024)          4096        dropout_8[0][0]                  \n",
      "____________________________________________________________________________________________________\n",
      "dense_9 (Dense)                  (None, 1024)          1049600     batch_normalization_6[0][0]      \n",
      "____________________________________________________________________________________________________\n",
      "dropout_9 (Dropout)              (None, 1024)          0           dense_9[0][0]                    \n",
      "____________________________________________________________________________________________________\n",
      "add_3 (Add)                      (None, 1024)          0           batch_normalization_5[0][0]      \n",
      "                                                                   dropout_9[0][0]                  \n",
      "____________________________________________________________________________________________________\n",
      "dense_10 (Dense)                 (None, 1024)          1049600     add_3[0][0]                      \n",
      "____________________________________________________________________________________________________\n",
      "activation_7 (Activation)        (None, 1024)          0           dense_10[0][0]                   \n",
      "____________________________________________________________________________________________________\n",
      "dropout_10 (Dropout)             (None, 1024)          0           activation_7[0][0]               \n",
      "____________________________________________________________________________________________________\n",
      "batch_normalization_7 (BatchNorm (None, 1024)          4096        dropout_10[0][0]                 \n",
      "____________________________________________________________________________________________________\n",
      "dropout_11 (Dropout)             (None, 1024)          0           batch_normalization_7[0][0]      \n",
      "____________________________________________________________________________________________________\n",
      "batch_normalization_8 (BatchNorm (None, 1024)          4096        dropout_11[0][0]                 \n",
      "____________________________________________________________________________________________________\n",
      "dense_12 (Dense)                 (None, 1024)          1049600     batch_normalization_8[0][0]      \n",
      "____________________________________________________________________________________________________\n",
      "dropout_12 (Dropout)             (None, 1024)          0           dense_12[0][0]                   \n",
      "____________________________________________________________________________________________________\n",
      "add_4 (Add)                      (None, 1024)          0           batch_normalization_7[0][0]      \n",
      "                                                                   dropout_12[0][0]                 \n",
      "____________________________________________________________________________________________________\n",
      "dense_13 (Dense)                 (None, 512)           524800      add_4[0][0]                      \n",
      "____________________________________________________________________________________________________\n",
      "activation_9 (Activation)        (None, 512)           0           dense_13[0][0]                   \n",
      "____________________________________________________________________________________________________\n",
      "dropout_13 (Dropout)             (None, 512)           0           activation_9[0][0]               \n",
      "____________________________________________________________________________________________________\n",
      "batch_normalization_9 (BatchNorm (None, 512)           2048        dropout_13[0][0]                 \n",
      "____________________________________________________________________________________________________\n",
      "dropout_14 (Dropout)             (None, 512)           0           batch_normalization_9[0][0]      \n",
      "____________________________________________________________________________________________________\n",
      "batch_normalization_10 (BatchNor (None, 512)           2048        dropout_14[0][0]                 \n",
      "____________________________________________________________________________________________________\n",
      "dense_15 (Dense)                 (None, 512)           262656      batch_normalization_10[0][0]     \n",
      "____________________________________________________________________________________________________\n",
      "dropout_15 (Dropout)             (None, 512)           0           dense_15[0][0]                   \n",
      "____________________________________________________________________________________________________\n",
      "add_5 (Add)                      (None, 512)           0           batch_normalization_9[0][0]      \n",
      "                                                                   dropout_15[0][0]                 \n",
      "____________________________________________________________________________________________________\n",
      "dense_16 (Dense)                 (None, 512)           262656      add_5[0][0]                      \n",
      "____________________________________________________________________________________________________\n",
      "activation_11 (Activation)       (None, 512)           0           dense_16[0][0]                   \n",
      "____________________________________________________________________________________________________\n",
      "dropout_16 (Dropout)             (None, 512)           0           activation_11[0][0]              \n",
      "____________________________________________________________________________________________________\n",
      "batch_normalization_11 (BatchNor (None, 512)           2048        dropout_16[0][0]                 \n",
      "____________________________________________________________________________________________________\n",
      "dropout_17 (Dropout)             (None, 512)           0           batch_normalization_11[0][0]     \n",
      "____________________________________________________________________________________________________\n",
      "batch_normalization_12 (BatchNor (None, 512)           2048        dropout_17[0][0]                 \n",
      "____________________________________________________________________________________________________\n",
      "dense_18 (Dense)                 (None, 512)           262656      batch_normalization_12[0][0]     \n",
      "____________________________________________________________________________________________________\n",
      "dropout_18 (Dropout)             (None, 512)           0           dense_18[0][0]                   \n",
      "____________________________________________________________________________________________________\n",
      "add_6 (Add)                      (None, 512)           0           batch_normalization_11[0][0]     \n",
      "                                                                   dropout_18[0][0]                 \n",
      "____________________________________________________________________________________________________\n",
      "dense_19 (Dense)                 (None, 256)           131328      add_6[0][0]                      \n",
      "____________________________________________________________________________________________________\n",
      "activation_13 (Activation)       (None, 256)           0           dense_19[0][0]                   \n",
      "____________________________________________________________________________________________________\n",
      "dropout_19 (Dropout)             (None, 256)           0           activation_13[0][0]              \n",
      "____________________________________________________________________________________________________\n",
      "batch_normalization_13 (BatchNor (None, 256)           1024        dropout_19[0][0]                 \n",
      "____________________________________________________________________________________________________\n",
      "dropout_20 (Dropout)             (None, 256)           0           batch_normalization_13[0][0]     \n",
      "____________________________________________________________________________________________________\n",
      "batch_normalization_14 (BatchNor (None, 256)           1024        dropout_20[0][0]                 \n",
      "____________________________________________________________________________________________________\n",
      "dense_21 (Dense)                 (None, 256)           65792       batch_normalization_14[0][0]     \n",
      "____________________________________________________________________________________________________\n",
      "dropout_21 (Dropout)             (None, 256)           0           dense_21[0][0]                   \n",
      "____________________________________________________________________________________________________\n",
      "add_7 (Add)                      (None, 256)           0           batch_normalization_13[0][0]     \n",
      "                                                                   dropout_21[0][0]                 \n",
      "____________________________________________________________________________________________________\n",
      "dense_22 (Dense)                 (None, 256)           65792       add_7[0][0]                      \n",
      "____________________________________________________________________________________________________\n",
      "activation_15 (Activation)       (None, 256)           0           dense_22[0][0]                   \n",
      "____________________________________________________________________________________________________\n",
      "dropout_22 (Dropout)             (None, 256)           0           activation_15[0][0]              \n",
      "____________________________________________________________________________________________________\n",
      "batch_normalization_15 (BatchNor (None, 256)           1024        dropout_22[0][0]                 \n",
      "____________________________________________________________________________________________________\n",
      "dropout_23 (Dropout)             (None, 256)           0           batch_normalization_15[0][0]     \n",
      "____________________________________________________________________________________________________\n",
      "batch_normalization_16 (BatchNor (None, 256)           1024        dropout_23[0][0]                 \n",
      "____________________________________________________________________________________________________\n",
      "dense_24 (Dense)                 (None, 256)           65792       batch_normalization_16[0][0]     \n",
      "____________________________________________________________________________________________________\n",
      "dropout_24 (Dropout)             (None, 256)           0           dense_24[0][0]                   \n",
      "____________________________________________________________________________________________________\n",
      "add_8 (Add)                      (None, 256)           0           batch_normalization_15[0][0]     \n",
      "                                                                   dropout_24[0][0]                 \n",
      "____________________________________________________________________________________________________\n",
      "dense_25 (Dense)                 (None, 128)           32896       add_8[0][0]                      \n",
      "____________________________________________________________________________________________________\n",
      "activation_17 (Activation)       (None, 128)           0           dense_25[0][0]                   \n",
      "____________________________________________________________________________________________________\n",
      "dropout_25 (Dropout)             (None, 128)           0           activation_17[0][0]              \n",
      "____________________________________________________________________________________________________\n",
      "batch_normalization_17 (BatchNor (None, 128)           512         dropout_25[0][0]                 \n",
      "____________________________________________________________________________________________________\n",
      "dropout_26 (Dropout)             (None, 128)           0           batch_normalization_17[0][0]     \n",
      "____________________________________________________________________________________________________\n",
      "batch_normalization_18 (BatchNor (None, 128)           512         dropout_26[0][0]                 \n",
      "____________________________________________________________________________________________________\n",
      "dense_27 (Dense)                 (None, 128)           16512       batch_normalization_18[0][0]     \n",
      "____________________________________________________________________________________________________\n",
      "dropout_27 (Dropout)             (None, 128)           0           dense_27[0][0]                   \n",
      "____________________________________________________________________________________________________\n",
      "add_9 (Add)                      (None, 128)           0           batch_normalization_17[0][0]     \n",
      "                                                                   dropout_27[0][0]                 \n",
      "____________________________________________________________________________________________________\n",
      "dense_28 (Dense)                 (None, 128)           16512       add_9[0][0]                      \n",
      "____________________________________________________________________________________________________\n",
      "activation_19 (Activation)       (None, 128)           0           dense_28[0][0]                   \n",
      "____________________________________________________________________________________________________\n",
      "dropout_28 (Dropout)             (None, 128)           0           activation_19[0][0]              \n",
      "____________________________________________________________________________________________________\n",
      "batch_normalization_19 (BatchNor (None, 128)           512         dropout_28[0][0]                 \n",
      "____________________________________________________________________________________________________\n",
      "dropout_29 (Dropout)             (None, 128)           0           batch_normalization_19[0][0]     \n",
      "____________________________________________________________________________________________________\n",
      "batch_normalization_20 (BatchNor (None, 128)           512         dropout_29[0][0]                 \n",
      "____________________________________________________________________________________________________\n",
      "dense_30 (Dense)                 (None, 128)           16512       batch_normalization_20[0][0]     \n",
      "____________________________________________________________________________________________________\n",
      "dropout_30 (Dropout)             (None, 128)           0           dense_30[0][0]                   \n",
      "____________________________________________________________________________________________________\n",
      "add_10 (Add)                     (None, 128)           0           batch_normalization_19[0][0]     \n",
      "                                                                   dropout_30[0][0]                 \n",
      "____________________________________________________________________________________________________\n",
      "dense_31 (Dense)                 (None, 23)            2967        add_10[0][0]                     \n",
      "====================================================================================================\n",
      "Total params: 19,878,295\n",
      "Trainable params: 19,846,551\n",
      "Non-trainable params: 31,744\n",
      "____________________________________________________________________________________________________\n"
     ]
    }
   ],
   "source": [
    "model.summary()"
   ]
  },
  {
   "cell_type": "code",
   "execution_count": 5,
   "metadata": {
    "collapsed": true
   },
   "outputs": [],
   "source": [
    "from sklearn.metrics import accuracy_score"
   ]
  },
  {
   "cell_type": "code",
   "execution_count": 6,
   "metadata": {},
   "outputs": [
    {
     "name": "stdout",
     "output_type": "stream",
     "text": [
      "0.991949518071\n"
     ]
    }
   ],
   "source": [
    "val_preds = model.predict(X_val)\n",
    "int_preds_val = np.array([np.argmax(r) for r in val_preds])\n",
    "int_y_val = np.array([np.argmax(r) for r in y_val])\n",
    "val_acc = accuracy_score(int_y_val, int_preds_val)\n",
    "print(val_acc)"
   ]
  },
  {
   "cell_type": "code",
   "execution_count": 7,
   "metadata": {},
   "outputs": [
    {
     "name": "stdout",
     "output_type": "stream",
     "text": [
      "0.991945191367\n"
     ]
    }
   ],
   "source": [
    "train_preds = model.predict(X_train)\n",
    "int_preds_train = np.array([np.argmax(r) for r in train_preds])\n",
    "int_y_train = np.array([np.argmax(r) for r in y_train])\n",
    "train_acc = accuracy_score(int_y_train, int_preds_train)\n",
    "print(train_acc)"
   ]
  },
  {
   "cell_type": "code",
   "execution_count": 8,
   "metadata": {
    "collapsed": true
   },
   "outputs": [],
   "source": [
    "X_test = np.load('../data/X_test.npy', mmap_mode='r')\n",
    "y_test = np.load('../data/y_test_k.npy', mmap_mode='r')"
   ]
  },
  {
   "cell_type": "code",
   "execution_count": 9,
   "metadata": {},
   "outputs": [
    {
     "name": "stdout",
     "output_type": "stream",
     "text": [
      "0.993193107255\n"
     ]
    }
   ],
   "source": [
    "test_preds = model.predict(X_test)\n",
    "int_preds = np.array([np.argmax(r) for r in test_preds])\n",
    "int_y_test = np.array([np.argmax(r) for r in y_test])\n",
    "test_acc = accuracy_score(int_y_test, int_preds)\n",
    "print(test_acc)"
   ]
  },
  {
   "cell_type": "code",
   "execution_count": 11,
   "metadata": {
    "collapsed": true
   },
   "outputs": [],
   "source": [
    "np.save('../data/preds/res_val_preds', val_preds)\n",
    "np.save('../data/preds/res_train_preds', train_preds)\n",
    "np.save('../data/preds/res_test_preds', test_preds)"
   ]
  }
 ],
 "metadata": {
  "kernelspec": {
   "display_name": "Python [conda env:aind]",
   "language": "python",
   "name": "conda-env-aind-py"
  },
  "language_info": {
   "codemirror_mode": {
    "name": "ipython",
    "version": 3
   },
   "file_extension": ".py",
   "mimetype": "text/x-python",
   "name": "python",
   "nbconvert_exporter": "python",
   "pygments_lexer": "ipython3",
   "version": "3.6.0"
  }
 },
 "nbformat": 4,
 "nbformat_minor": 2
}
