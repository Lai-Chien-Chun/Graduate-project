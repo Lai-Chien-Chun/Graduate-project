{
 "cells": [
  {
   "cell_type": "code",
   "execution_count": 1,
   "metadata": {
    "collapsed": true
   },
   "outputs": [],
   "source": [
    "import numpy as np\n",
    "import plotly.plotly as py\n",
    "import plotly.graph_objs as go"
   ]
  },
  {
   "cell_type": "code",
   "execution_count": 2,
   "metadata": {
    "collapsed": true
   },
   "outputs": [],
   "source": [
    "y_test = np.load('../data/y_test.npy', mmap_mode = 'r')\n",
    "test_preds = np.load('../data/preds/stacker_test_preds.npy', mmap_mode = 'r')"
   ]
  },
  {
   "cell_type": "code",
   "execution_count": 3,
   "metadata": {
    "collapsed": true
   },
   "outputs": [],
   "source": [
    "unique_labels = [11,  1,  7, 12,  9, 18,  3, 14, 20, 15,  5,  6,  2,  0,  4, 17, 13, 10,  8, 22, 21, 19, 16]\n",
    "unique_labelnames = ['normal', 'buffer_overflow', 'loadmodule', 'perl', 'neptune',\n",
    "       'smurf', 'guess_passwd', 'pod', 'teardrop', 'portsweep', 'ipsweep',\n",
    "       'land', 'ftp_write', 'back', 'imap', 'satan', 'phf', 'nmap',\n",
    "       'multihop', 'warezmaster', 'warezclient', 'spy', 'rootkit']\n",
    "labelnames = {unique_labels[i]:unique_labelnames[i] for i in range(len(unique_labels))}"
   ]
  },
  {
   "cell_type": "markdown",
   "metadata": {},
   "source": [
    "We may not care about the type of the attack, and only want to know if it's an attack at all.  So we can treat it as a binary classification problem and analyze our results from that perspective."
   ]
  },
  {
   "cell_type": "code",
   "execution_count": 4,
   "metadata": {
    "collapsed": true
   },
   "outputs": [],
   "source": [
    "bin_link_values_normal = {(x,0):np.sum((y_test==11) & (np.argmax(test_preds, axis = 1)==x)) for x in range(len(unique_labels))}\n",
    "bin_link_values_malicious = {(x,1):np.sum((y_test!=11) & (np.argmax(test_preds, axis = 1)==x)) for x in range(len(unique_labels))}"
   ]
  },
  {
   "cell_type": "code",
   "execution_count": 5,
   "metadata": {
    "collapsed": true
   },
   "outputs": [],
   "source": [
    "bin_link_values_dict = {**bin_link_values_normal, **bin_link_values_malicious}"
   ]
  },
  {
   "cell_type": "code",
   "execution_count": 6,
   "metadata": {
    "collapsed": true
   },
   "outputs": [],
   "source": [
    "bin_link_values = list([x[1] for x in bin_link_values_dict.items()])\n",
    "bin_node_labels = ['normal', 'malicious']+[labelnames[x] for x in range(len(labelnames))]\n",
    "bin_link_sources = [x[0][0]+2 for x in bin_link_values_dict.items()]\n",
    "bin_link_targets = [x[0][1] for x in list(bin_link_values_dict.items())]\n",
    "bin_link_labels = ['' for x in range(len(bin_link_sources))]"
   ]
  },
  {
   "cell_type": "code",
   "execution_count": 7,
   "metadata": {},
   "outputs": [
    {
     "data": {
      "text/html": [
       "<iframe id=\"igraph\" scrolling=\"no\" style=\"border:none;\" seamless=\"seamless\" src=\"https://plot.ly/~jvmancuso/112.embed\" height=\"525px\" width=\"100%\"></iframe>"
      ],
      "text/plain": [
       "<plotly.tools.PlotlyDisplay object>"
      ]
     },
     "execution_count": 7,
     "metadata": {},
     "output_type": "execute_result"
    }
   ],
   "source": [
    "data_trace = dict(\n",
    "    type='sankey',\n",
    "    width = 1118,\n",
    "    height = 772,\n",
    "    domain = dict(\n",
    "      x =  [0,1],\n",
    "      y =  [0,1]\n",
    "    ),\n",
    "    orientation = \"v\",\n",
    "    valueformat = \".0f\",\n",
    "    valuesuffix = \"\",\n",
    "    node = dict(\n",
    "      pad = 15,\n",
    "      thickness = 15,\n",
    "      line = dict(\n",
    "        color = \"black\",\n",
    "        width = 0.5\n",
    "      ),\n",
    "      label =  bin_node_labels,\n",
    "      color =  ['rgba(0,0,0,.9)' for x in bin_node_labels]\n",
    "    ),\n",
    "    link = dict(\n",
    "      source =  bin_link_sources,\n",
    "      target =  bin_link_targets,\n",
    "      value =  bin_link_values,\n",
    "      label =  bin_link_labels\n",
    "  ))\n",
    "\n",
    "layout =  dict(\n",
    "    title = \"Attack types flowing into maliciousness prediction\",\n",
    "    font = dict(\n",
    "      size = 10\n",
    "    )\n",
    ")\n",
    "\n",
    "fig = dict(data=[data_trace], layout=layout)\n",
    "py.iplot(fig, validate=False)"
   ]
  },
  {
   "cell_type": "markdown",
   "metadata": {},
   "source": [
    "We should probably check precision and recall for good measure."
   ]
  },
  {
   "cell_type": "code",
   "execution_count": 8,
   "metadata": {
    "collapsed": true
   },
   "outputs": [],
   "source": [
    "tp = sum([bin_link_values_dict[(x,1)] for x in range(len(unique_labels)) if x!=11])\n",
    "fn = sum([bin_link_values_dict[(x,0)] for x in range(len(unique_labels)) if x!=11])\n",
    "tn = bin_link_values_dict[(11,0)]\n",
    "fp = bin_link_values_dict[(11,1)]"
   ]
  },
  {
   "cell_type": "code",
   "execution_count": 9,
   "metadata": {
    "collapsed": true
   },
   "outputs": [],
   "source": [
    "prec = tp / (tp + fp)\n",
    "recall = tp / (tp + fn)"
   ]
  },
  {
   "cell_type": "code",
   "execution_count": 10,
   "metadata": {},
   "outputs": [
    {
     "name": "stdout",
     "output_type": "stream",
     "text": [
      "Precision:  0.998567262196\n",
      "Recall:  0.999736258202\n"
     ]
    }
   ],
   "source": [
    "print(\"Precision: \", prec)\n",
    "print(\"Recall: \", recall)"
   ]
  },
  {
   "cell_type": "markdown",
   "metadata": {},
   "source": [
    "Exporting data for Shiny"
   ]
  },
  {
   "cell_type": "code",
   "execution_count": 11,
   "metadata": {
    "collapsed": true
   },
   "outputs": [],
   "source": [
    "bin_link_values_file = open('../data/bin_link_values.csv','w')\n",
    "bin_node_labels_file = open('../data/bin_node_labels.csv','w')\n",
    "bin_link_sources_file = open('../data/bin_link_sources.csv','w')\n",
    "bin_link_targets_file = open('../data/bin_link_targets.csv','w')\n",
    "bin_link_labels_file = open('../data/bin_link_labels.csv','w')\n",
    "files_dict = {'../data/bin_link_values.csv':[bin_link_values_file, bin_link_values], \n",
    "              '../data/bin_node_labels.csv':[bin_node_labels_file, bin_node_labels], \n",
    "              '../data/bin_link_sources.csv':[bin_link_sources_file, bin_link_sources],\n",
    "              '../data/bin_link_targets.csv':[bin_link_targets_file, bin_link_targets],\n",
    "              '../data/bin_link_labels.csv':[bin_link_labels_file, bin_link_labels]}\n",
    "for x in files_dict.keys():\n",
    "    for y in files_dict[x][1]:\n",
    "        files_dict[x][0].write(\"{}\\n\".format(y))\n",
    "        files_dict[x][0].flush()"
   ]
  }
 ],
 "metadata": {
  "kernelspec": {
   "display_name": "Python [conda env:aind]",
   "language": "python",
   "name": "conda-env-aind-py"
  },
  "language_info": {
   "codemirror_mode": {
    "name": "ipython",
    "version": 3
   },
   "file_extension": ".py",
   "mimetype": "text/x-python",
   "name": "python",
   "nbconvert_exporter": "python",
   "pygments_lexer": "ipython3",
   "version": "3.6.0"
  }
 },
 "nbformat": 4,
 "nbformat_minor": 2
}
