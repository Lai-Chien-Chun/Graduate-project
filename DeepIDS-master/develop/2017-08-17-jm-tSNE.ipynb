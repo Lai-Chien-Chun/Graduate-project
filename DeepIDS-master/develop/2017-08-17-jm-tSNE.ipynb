{
 "cells": [
  {
   "cell_type": "code",
   "execution_count": 1,
   "metadata": {
    "collapsed": true
   },
   "outputs": [],
   "source": [
    "from bhtsne import tsne\n",
    "import numpy as np\n",
    "import plotly.plotly as plt\n",
    "import plotly.graph_objs as go\n",
    "import gc"
   ]
  },
  {
   "cell_type": "code",
   "execution_count": 2,
   "metadata": {
    "collapsed": true
   },
   "outputs": [],
   "source": [
    "X_train = np.load('../data/X_train.npy', mmap_mode = 'r')\n",
    "y_train = np.load('../data/y_train.npy', mmap_mode = 'r')\n",
    "X_val = np.load('../data/X_val.npy', mmap_mode = 'r')\n",
    "y_val = np.load('../data/y_val.npy', mmap_mode = 'r')\n",
    "X_test = np.load('../data/X_test.npy', mmap_mode='r')\n",
    "y_test = np.load('../data/y_test.npy', mmap_mode='r')\n",
    "X = np.concatenate((X_train, X_val, X_test), axis = 0)\n",
    "y = np.concatenate((y_train, y_val, y_test), axis = 0)"
   ]
  },
  {
   "cell_type": "code",
   "execution_count": 3,
   "metadata": {
    "collapsed": true
   },
   "outputs": [],
   "source": [
    "mask = np.random.choice(np.arange(X.shape[0]), size = 10000)\n",
    "X_sub = X[mask,:]\n",
    "y_sub = y[mask]\n",
    "del X, y\n",
    "gc.collect();"
   ]
  },
  {
   "cell_type": "code",
   "execution_count": 4,
   "metadata": {
    "collapsed": true
   },
   "outputs": [],
   "source": [
    "embedded = tsne(X_sub)"
   ]
  },
  {
   "cell_type": "code",
   "execution_count": 5,
   "metadata": {
    "collapsed": true
   },
   "outputs": [],
   "source": [
    "labels = np.unique(y_sub)"
   ]
  },
  {
   "cell_type": "code",
   "execution_count": 6,
   "metadata": {},
   "outputs": [
    {
     "data": {
      "text/plain": [
       "array([ 0,  5,  9, 10, 11, 15, 17, 18, 20, 21])"
      ]
     },
     "execution_count": 6,
     "metadata": {},
     "output_type": "execute_result"
    }
   ],
   "source": [
    "labels"
   ]
  },
  {
   "cell_type": "code",
   "execution_count": 7,
   "metadata": {
    "collapsed": true
   },
   "outputs": [],
   "source": [
    "names = {0:'back (dos)', 5:'ipsweep (probe)', 9:'neptune (dos)', 10:'nmap (probe)', 11:'normal connection', 14:'pod (dos)', 15:'portsweep (probe)', 17:'satan (probe)', 18:'smurf (dos)', 20:'teardrop (dos)' , 21:'warezclient (remote to user)'}"
   ]
  },
  {
   "cell_type": "code",
   "execution_count": 8,
   "metadata": {
    "collapsed": true
   },
   "outputs": [],
   "source": [
    "def get_trace(label):\n",
    "    x = embedded[y_sub==label, 0]\n",
    "    y = embedded[y_sub==label, 1]\n",
    "    ix = np.where(labels==label)[0][0]\n",
    "    margin = 255//len(labels)\n",
    "    trace = go.Scatter(\n",
    "        x = x,\n",
    "        y = y,\n",
    "        name = names[label],\n",
    "        mode = 'markers',\n",
    "        marker = dict(\n",
    "            size = 5, \n",
    "            color = 'rgba('+str(margin*ix%255)+','+str(margin*(ix+4)%255)+','+str(margin*(ix+8)%255)+',.9)'\n",
    "        )\n",
    "    )\n",
    "    return trace"
   ]
  },
  {
   "cell_type": "code",
   "execution_count": 9,
   "metadata": {},
   "outputs": [
    {
     "name": "stdout",
     "output_type": "stream",
     "text": [
      "High five! You successfully sent some data to your account on plotly. View your plot in your browser at https://plot.ly/~jvmancuso/0 or inside your plot.ly account where it is named 'tsne-scatter'\n"
     ]
    },
    {
     "data": {
      "text/html": [
       "<iframe id=\"igraph\" scrolling=\"no\" style=\"border:none;\" seamless=\"seamless\" src=\"https://plot.ly/~jvmancuso/0.embed\" height=\"525px\" width=\"100%\"></iframe>"
      ],
      "text/plain": [
       "<plotly.tools.PlotlyDisplay object>"
      ]
     },
     "execution_count": 9,
     "metadata": {},
     "output_type": "execute_result"
    }
   ],
   "source": [
    "data = [get_trace(x) for x in labels]\n",
    "layout = go.Layout(title = 'tSNE of 10000 samples',\n",
    "              yaxis = dict(zeroline = False),\n",
    "              xaxis = dict(zeroline = False),\n",
    "              hovermode = \"closest\"\n",
    "             )\n",
    "figure = go.Figure(data = data, layout = layout)\n",
    "plt.iplot(figure, filename='tsne-scatter')"
   ]
  },
  {
   "cell_type": "code",
   "execution_count": 11,
   "metadata": {
    "collapsed": true
   },
   "outputs": [],
   "source": [
    "import pandas as pd"
   ]
  },
  {
   "cell_type": "code",
   "execution_count": 14,
   "metadata": {},
   "outputs": [],
   "source": [
    "tsne_df = pd.DataFrame(embedded, columns = ['x','y'])\n",
    "labels_df = pd.DataFrame(labels)\n",
    "names_df = pd.DataFrame(list(names.items()), columns = ['label', 'name'])\n",
    "y_sub_df = pd.DataFrame(y_sub)"
   ]
  },
  {
   "cell_type": "code",
   "execution_count": 16,
   "metadata": {
    "collapsed": true
   },
   "outputs": [],
   "source": [
    "tsne_df.to_csv('../data/tsne_data.csv')\n",
    "labels_df.to_csv('../data/labels.csv')\n",
    "names_df.to_csv('../data/names.csv')\n",
    "y_sub_df.to_csv('../data/y_sub.csv')"
   ]
  }
 ],
 "metadata": {
  "kernelspec": {
   "display_name": "Python [conda env:aind]",
   "language": "python",
   "name": "conda-env-aind-py"
  },
  "language_info": {
   "codemirror_mode": {
    "name": "ipython",
    "version": 3
   },
   "file_extension": ".py",
   "mimetype": "text/x-python",
   "name": "python",
   "nbconvert_exporter": "python",
   "pygments_lexer": "ipython3",
   "version": "3.6.0"
  }
 },
 "nbformat": 4,
 "nbformat_minor": 2
}
