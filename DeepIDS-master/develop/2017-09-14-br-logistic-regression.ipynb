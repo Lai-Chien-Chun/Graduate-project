{
 "cells": [
  {
   "cell_type": "code",
   "execution_count": 1,
   "metadata": {
    "collapsed": true
   },
   "outputs": [],
   "source": [
    "import sklearn as sk\n",
    "from sklearn.metrics import confusion_matrix\n",
    "import numpy as np\n",
    "from sklearn.linear_model import LogisticRegression"
   ]
  },
  {
   "cell_type": "code",
   "execution_count": 2,
   "metadata": {
    "collapsed": true
   },
   "outputs": [],
   "source": [
    "X_train = np.load('../data/X_train.npy')\n",
    "y_train = np.load('../data/y_train.npy')\n",
    "y_train_k = np.load('../data/y_train_k.npy')\n",
    "X_val = np.load('../data/X_val.npy')\n",
    "y_val = np.load('../data/y_val.npy')\n",
    "y_val_k = np.load('../data/y_val_k.npy')\n",
    "X_test = np.load('../data/X_test.npy')\n",
    "y_test = np.load('../data/y_test.npy')\n",
    "y_test_k = np.load('../data/y_test_k.npy')"
   ]
  },
  {
   "cell_type": "code",
   "execution_count": 3,
   "metadata": {},
   "outputs": [
    {
     "data": {
      "text/plain": [
       "LogisticRegression(C=1.0, class_weight=None, dual=False, fit_intercept=True,\n",
       "          intercept_scaling=1, max_iter=100, multi_class='ovr', n_jobs=1,\n",
       "          penalty='l2', random_state=None, solver='liblinear', tol=0.0001,\n",
       "          verbose=0, warm_start=False)"
      ]
     },
     "execution_count": 3,
     "metadata": {},
     "output_type": "execute_result"
    }
   ],
   "source": [
    "model = LogisticRegression()\n",
    "model.fit(X_train, y_train)"
   ]
  },
  {
   "cell_type": "code",
   "execution_count": 11,
   "metadata": {
    "collapsed": true
   },
   "outputs": [],
   "source": [
    "y_pred = model.predict(X_test)"
   ]
  },
  {
   "cell_type": "code",
   "execution_count": 13,
   "metadata": {},
   "outputs": [
    {
     "data": {
      "text/plain": [
       "0.99550567922432764"
      ]
     },
     "execution_count": 13,
     "metadata": {},
     "output_type": "execute_result"
    }
   ],
   "source": [
    "accuracy_score(y_test, y_pred)"
   ]
  },
  {
   "cell_type": "code",
   "execution_count": 14,
   "metadata": {
    "collapsed": true
   },
   "outputs": [],
   "source": [
    "unique_labels = [11,  1,  7, 12,  9, 18,  3, 14, 20, 15,  5,  6,  2,  0,  4, 17, 13, 10,  8, 22, 21, 19, 16]\n",
    "unique_labelnames = ['normal', 'buffer_overflow', 'loadmodule', 'perl', 'neptune',\n",
    "       'smurf', 'guess_passwd', 'pod', 'teardrop', 'portsweep', 'ipsweep',\n",
    "       'land', 'ftp_write', 'back', 'imap', 'satan', 'phf', 'nmap',\n",
    "       'multihop', 'warezmaster', 'warezclient', 'spy', 'rootkit']\n",
    "labelnames = {unique_labels[i]:unique_labelnames[i] for i in range(len(unique_labels))}"
   ]
  },
  {
   "cell_type": "code",
   "execution_count": 21,
   "metadata": {},
   "outputs": [],
   "source": [
    "bin_link_values_normal = {(x,0):np.sum((y_test==11) & y_pred==x) for x in range(len(unique_labels))}\n",
    "bin_link_values_malicious = {(x,1):np.sum((y_test!=11) & y_pred==x) for x in range(len(unique_labels))}"
   ]
  },
  {
   "cell_type": "code",
   "execution_count": 22,
   "metadata": {},
   "outputs": [],
   "source": [
    "bin_link_values_dict = {**bin_link_values_normal, **bin_link_values_malicious}"
   ]
  },
  {
   "cell_type": "code",
   "execution_count": 23,
   "metadata": {
    "collapsed": true
   },
   "outputs": [],
   "source": [
    "tp = sum([bin_link_values_dict[(x,1)] for x in range(len(unique_labels)) if x!=11])\n",
    "fn = sum([bin_link_values_dict[(x,0)] for x in range(len(unique_labels)) if x!=11])\n",
    "tn = bin_link_values_dict[(11,0)]\n",
    "fp = bin_link_values_dict[(11,1)]"
   ]
  },
  {
   "cell_type": "code",
   "execution_count": 24,
   "metadata": {
    "collapsed": true
   },
   "outputs": [],
   "source": [
    "prec = tp / (tp + fp)\n",
    "recall = tp / (tp + fn)"
   ]
  },
  {
   "cell_type": "code",
   "execution_count": 25,
   "metadata": {},
   "outputs": [
    {
     "name": "stdout",
     "output_type": "stream",
     "text": [
      "Precision:  1.0\n",
      "Recall:  0.5\n"
     ]
    }
   ],
   "source": [
    "print(\"Precision: \", prec)\n",
    "print(\"Recall: \", recall)"
   ]
  },
  {
   "cell_type": "code",
   "execution_count": null,
   "metadata": {
    "collapsed": true
   },
   "outputs": [],
   "source": [
    "from sklearn.externals import joblib\n",
    "joblib.dump(clf, 'filename.pkl')"
   ]
  }
 ],
 "metadata": {
  "kernelspec": {
   "display_name": "Python [conda env:threatdetect]",
   "language": "python",
   "name": "conda-env-threatdetect-py"
  },
  "language_info": {
   "codemirror_mode": {
    "name": "ipython",
    "version": 3
   },
   "file_extension": ".py",
   "mimetype": "text/x-python",
   "name": "python",
   "nbconvert_exporter": "python",
   "pygments_lexer": "ipython3",
   "version": "3.6.2"
  }
 },
 "nbformat": 4,
 "nbformat_minor": 2
}
