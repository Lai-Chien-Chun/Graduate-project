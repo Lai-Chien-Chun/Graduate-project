{
 "cells": [
  {
   "cell_type": "code",
   "execution_count": 1,
   "metadata": {},
   "outputs": [
    {
     "name": "stderr",
     "output_type": "stream",
     "text": [
      "Using TensorFlow backend.\n"
     ]
    }
   ],
   "source": [
    "import numpy as np\n",
    "from keras.models import Model, load_model\n",
    "from keras.layers import Dense, Input, Activation\n",
    "from keras.layers.noise import AlphaDropout\n",
    "from keras.initializers import lecun_normal\n",
    "from keras.optimizers import Adam, SGD\n",
    "from keras.callbacks import EarlyStopping, ModelCheckpoint"
   ]
  },
  {
   "cell_type": "code",
   "execution_count": 2,
   "metadata": {
    "collapsed": true
   },
   "outputs": [],
   "source": [
    "X_train = np.load('../data/X_train.npy', mmap_mode = 'r')\n",
    "y_train = np.load('../data/y_train_k.npy', mmap_mode = 'r')\n",
    "X_val = np.load('../data/X_val.npy', mmap_mode = 'r')\n",
    "y_val = np.load('../data/y_val_k.npy', mmap_mode = 'r')\n",
    "mean = np.mean(X_train, axis = 0)\n",
    "std = np.std(X_train, axis = 0)\n",
    "std[std == 0] = 1\n",
    "X_train = X_train - mean / std\n",
    "X_val = X_val - mean / std"
   ]
  },
  {
   "cell_type": "code",
   "execution_count": 3,
   "metadata": {
    "collapsed": true
   },
   "outputs": [],
   "source": [
    "ins = Input(shape = (X_train.shape[1],))\n",
    "x = Dense(2048, kernel_initializer=lecun_normal(seed=42))(ins)\n",
    "x = Activation('selu')(x)\n",
    "#x = AlphaDropout(.05)(x)\n",
    "x = Dense(2048, kernel_initializer=lecun_normal(seed=42))(x)\n",
    "x = Activation('selu')(x)\n",
    "#x = AlphaDropout(.05)(x)\n",
    "x = Dense(1024, kernel_initializer=lecun_normal(seed=42))(x)\n",
    "x = Activation('selu')(x)\n",
    "#x = AlphaDropout(.05)(x)\n",
    "x = Dense(1024, kernel_initializer=lecun_normal(seed=42))(x)\n",
    "x = Activation('selu')(x)\n",
    "#x = AlphaDropout(.05)(x)\n",
    "x = Dense(512, kernel_initializer=lecun_normal(seed=42))(x)\n",
    "x = Activation('selu')(x)\n",
    "#x = AlphaDropout(.05)(x)\n",
    "x = Dense(512, kernel_initializer=lecun_normal(seed=42))(x)\n",
    "x = Activation('selu')(x)\n",
    "#x = AlphaDropout(.05)(x)\n",
    "x = Dense(256, kernel_initializer=lecun_normal(seed=42))(x)\n",
    "x = Activation('selu')(x)\n",
    "#x = AlphaDropout(.05)(x)\n",
    "x = Dense(256, kernel_initializer=lecun_normal(seed=42))(x)\n",
    "x = Activation('selu')(x)\n",
    "#x = AlphaDropout(.05)(x)\n",
    "x = Dense(128, kernel_initializer=lecun_normal(seed=42))(x)\n",
    "x = Activation('selu')(x)\n",
    "#x = AlphaDropout(.05)(x)\n",
    "x = Dense(128, kernel_initializer=lecun_normal(seed=42))(x)\n",
    "x = Activation('selu')(x)\n",
    "#x = AlphaDropout(.05)(x)\n",
    "outs = Dense(y_train.shape[1], activation = 'softmax')(x)\n",
    "\n",
    "model = Model(ins, outs)"
   ]
  },
  {
   "cell_type": "code",
   "execution_count": 4,
   "metadata": {
    "collapsed": true
   },
   "outputs": [],
   "source": [
    "opt = Adam(lr = .00002)\n",
    "model.compile(opt, 'categorical_crossentropy', metrics = ['acc'])\n",
    "stopper = EarlyStopping(monitor='val_acc', patience = 3, mode='auto')\n",
    "checker = ModelCheckpoint('../src/ensemble/seluModels/selu_test_best_0', monitor='val_acc', mode='auto')"
   ]
  },
  {
   "cell_type": "code",
   "execution_count": 5,
   "metadata": {},
   "outputs": [
    {
     "name": "stdout",
     "output_type": "stream",
     "text": [
      "Train on 3428511 samples, validate on 736105 samples\n",
      "Epoch 1/100\n",
      "3428511/3428511 [==============================] - 857s - loss: 0.0202 - acc: 0.9972 - val_loss: 0.0137 - val_acc: 0.9980\n",
      "Epoch 2/100\n",
      "3428511/3428511 [==============================] - 844s - loss: 0.0139 - acc: 0.9982 - val_loss: 0.0124 - val_acc: 0.9984\n",
      "Epoch 3/100\n",
      "3428511/3428511 [==============================] - 845s - loss: 0.0154 - acc: 0.9983 - val_loss: 0.0150 - val_acc: 0.9985\n",
      "Epoch 4/100\n",
      "3428511/3428511 [==============================] - 845s - loss: 0.0159 - acc: 0.9984 - val_loss: 0.0153 - val_acc: 0.9984\n",
      "Epoch 5/100\n",
      "3428511/3428511 [==============================] - 843s - loss: 0.0152 - acc: 0.9985 - val_loss: 0.0182 - val_acc: 0.9982\n",
      "Epoch 6/100\n",
      "3428511/3428511 [==============================] - 845s - loss: 0.0154 - acc: 0.9986 - val_loss: 0.0144 - val_acc: 0.9987\n",
      "Epoch 7/100\n",
      "3428511/3428511 [==============================] - 845s - loss: 0.0152 - acc: 0.9986 - val_loss: 0.0195 - val_acc: 0.9983\n",
      "Epoch 8/100\n",
      "3428511/3428511 [==============================] - 846s - loss: 0.0175 - acc: 0.9985 - val_loss: 0.0146 - val_acc: 0.9987\n",
      "Epoch 9/100\n",
      "3428511/3428511 [==============================] - 843s - loss: 0.0223 - acc: 0.9983 - val_loss: 0.0136 - val_acc: 0.9990\n",
      "Epoch 10/100\n",
      "3428511/3428511 [==============================] - 844s - loss: 0.0147 - acc: 0.9988 - val_loss: 0.0139 - val_acc: 0.9989\n",
      "Epoch 11/100\n",
      "3428511/3428511 [==============================] - 844s - loss: 0.0161 - acc: 0.9987 - val_loss: 0.0179 - val_acc: 0.9983\n",
      "Epoch 12/100\n",
      "3428511/3428511 [==============================] - 844s - loss: 0.0181 - acc: 0.9986 - val_loss: 0.0140 - val_acc: 0.9989\n",
      "Epoch 13/100\n",
      "3428511/3428511 [==============================] - 844s - loss: 0.0265 - acc: 0.9981 - val_loss: 0.0141 - val_acc: 0.9989\n"
     ]
    },
    {
     "data": {
      "text/plain": [
       "<keras.callbacks.History at 0x7f478c3ba940>"
      ]
     },
     "execution_count": 5,
     "metadata": {},
     "output_type": "execute_result"
    }
   ],
   "source": [
    "model.fit(X_train, y_train,\n",
    "          epochs=100, batch_size=32,\n",
    "          validation_data=(X_val, y_val),\n",
    "          callbacks = [stopper, checker])"
   ]
  },
  {
   "cell_type": "code",
   "execution_count": 4,
   "metadata": {
    "collapsed": true
   },
   "outputs": [],
   "source": [
    "model = load_model('../src/ensemble/selu_best.h5')"
   ]
  },
  {
   "cell_type": "code",
   "execution_count": 5,
   "metadata": {},
   "outputs": [
    {
     "name": "stdout",
     "output_type": "stream",
     "text": [
      "_________________________________________________________________\n",
      "Layer (type)                 Output Shape              Param #   \n",
      "=================================================================\n",
      "input_1 (InputLayer)         (None, 122)               0         \n",
      "_________________________________________________________________\n",
      "dense_1 (Dense)              (None, 2048)              251904    \n",
      "_________________________________________________________________\n",
      "activation_1 (Activation)    (None, 2048)              0         \n",
      "_________________________________________________________________\n",
      "dense_2 (Dense)              (None, 2048)              4196352   \n",
      "_________________________________________________________________\n",
      "activation_2 (Activation)    (None, 2048)              0         \n",
      "_________________________________________________________________\n",
      "dense_3 (Dense)              (None, 1024)              2098176   \n",
      "_________________________________________________________________\n",
      "activation_3 (Activation)    (None, 1024)              0         \n",
      "_________________________________________________________________\n",
      "dense_4 (Dense)              (None, 1024)              1049600   \n",
      "_________________________________________________________________\n",
      "activation_4 (Activation)    (None, 1024)              0         \n",
      "_________________________________________________________________\n",
      "dense_5 (Dense)              (None, 512)               524800    \n",
      "_________________________________________________________________\n",
      "activation_5 (Activation)    (None, 512)               0         \n",
      "_________________________________________________________________\n",
      "dense_6 (Dense)              (None, 512)               262656    \n",
      "_________________________________________________________________\n",
      "activation_6 (Activation)    (None, 512)               0         \n",
      "_________________________________________________________________\n",
      "dense_7 (Dense)              (None, 256)               131328    \n",
      "_________________________________________________________________\n",
      "activation_7 (Activation)    (None, 256)               0         \n",
      "_________________________________________________________________\n",
      "dense_8 (Dense)              (None, 256)               65792     \n",
      "_________________________________________________________________\n",
      "activation_8 (Activation)    (None, 256)               0         \n",
      "_________________________________________________________________\n",
      "dense_9 (Dense)              (None, 128)               32896     \n",
      "_________________________________________________________________\n",
      "activation_9 (Activation)    (None, 128)               0         \n",
      "_________________________________________________________________\n",
      "dense_10 (Dense)             (None, 128)               16512     \n",
      "_________________________________________________________________\n",
      "activation_10 (Activation)   (None, 128)               0         \n",
      "_________________________________________________________________\n",
      "dense_11 (Dense)             (None, 23)                2967      \n",
      "=================================================================\n",
      "Total params: 8,632,983\n",
      "Trainable params: 8,632,983\n",
      "Non-trainable params: 0\n",
      "_________________________________________________________________\n"
     ]
    }
   ],
   "source": [
    "model.summary()"
   ]
  },
  {
   "cell_type": "code",
   "execution_count": 6,
   "metadata": {
    "collapsed": true
   },
   "outputs": [],
   "source": [
    "from sklearn.metrics import accuracy_score"
   ]
  },
  {
   "cell_type": "code",
   "execution_count": 7,
   "metadata": {},
   "outputs": [
    {
     "name": "stdout",
     "output_type": "stream",
     "text": [
      "0.998894179499\n"
     ]
    }
   ],
   "source": [
    "val_preds = model.predict(X_val)\n",
    "int_preds_val = np.array([np.argmax(r) for r in val_preds])\n",
    "int_y_val = np.array([np.argmax(r) for r in y_val])\n",
    "val_acc = accuracy_score(int_y_val, int_preds_val)\n",
    "print(val_acc)"
   ]
  },
  {
   "cell_type": "code",
   "execution_count": 8,
   "metadata": {},
   "outputs": [
    {
     "name": "stdout",
     "output_type": "stream",
     "text": [
      "0.998908855769\n"
     ]
    }
   ],
   "source": [
    "train_preds = model.predict(X_train)\n",
    "int_preds_train = np.array([np.argmax(r) for r in train_preds])\n",
    "int_y_train = np.array([np.argmax(r) for r in y_train])\n",
    "train_acc = accuracy_score(int_y_train, int_preds_train)\n",
    "print(train_acc)"
   ]
  },
  {
   "cell_type": "code",
   "execution_count": 9,
   "metadata": {
    "collapsed": true
   },
   "outputs": [],
   "source": [
    "X_test = np.load('../data/X_test.npy', mmap_mode='r')\n",
    "y_test = np.load('../data/y_test_k.npy', mmap_mode='r')"
   ]
  },
  {
   "cell_type": "code",
   "execution_count": 10,
   "metadata": {},
   "outputs": [
    {
     "name": "stdout",
     "output_type": "stream",
     "text": [
      "0.997804623781\n"
     ]
    }
   ],
   "source": [
    "test_preds = model.predict(X_test)\n",
    "int_preds = np.array([np.argmax(r) for r in test_preds])\n",
    "int_y_test = np.array([np.argmax(r) for r in y_test])\n",
    "test_acc = accuracy_score(int_y_test, int_preds)\n",
    "print(test_acc)"
   ]
  },
  {
   "cell_type": "code",
   "execution_count": 11,
   "metadata": {
    "collapsed": true
   },
   "outputs": [],
   "source": [
    "np.save('../data/preds/selu_val_preds', val_preds)\n",
    "np.save('../data/preds/selu_train_preds', train_preds)\n",
    "np.save('../data/preds/selu_test_preds', test_preds)"
   ]
  }
 ],
 "metadata": {
  "kernelspec": {
   "display_name": "Python [conda env:aind]",
   "language": "python",
   "name": "conda-env-aind-py"
  },
  "language_info": {
   "codemirror_mode": {
    "name": "ipython",
    "version": 3
   },
   "file_extension": ".py",
   "mimetype": "text/x-python",
   "name": "python",
   "nbconvert_exporter": "python",
   "pygments_lexer": "ipython3",
   "version": "3.6.0"
  }
 },
 "nbformat": 4,
 "nbformat_minor": 2
}
