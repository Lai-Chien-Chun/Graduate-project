{
 "cells": [
  {
   "cell_type": "code",
   "execution_count": 1,
   "metadata": {},
   "outputs": [
    {
     "name": "stderr",
     "output_type": "stream",
     "text": [
      "Using TensorFlow backend.\n"
     ]
    }
   ],
   "source": [
    "import numpy as np\n",
    "from keras.models import Model, load_model\n",
    "from keras.layers import Dense, Input, Dropout, Activation\n",
    "from keras.layers.normalization import BatchNormalization\n",
    "from keras.optimizers import Adam\n",
    "from keras.callbacks import EarlyStopping, ModelCheckpoint"
   ]
  },
  {
   "cell_type": "code",
   "execution_count": 2,
   "metadata": {
    "collapsed": true
   },
   "outputs": [],
   "source": [
    "X_train = np.load('../data/X_train.npy', mmap_mode = 'r')\n",
    "y_train = np.load('../data/y_train_k.npy', mmap_mode = 'r')\n",
    "X_val = np.load('../data/X_val.npy', mmap_mode = 'r')\n",
    "y_val = np.load('../data/y_val_k.npy', mmap_mode = 'r')\n",
    "mean = np.mean(X_train, axis = 0)\n",
    "std = np.std(X_train, axis = 0)\n",
    "std[std == 0] = 1\n",
    "X_train = X_train - mean / std\n",
    "X_val = X_val - mean / std"
   ]
  },
  {
   "cell_type": "code",
   "execution_count": 3,
   "metadata": {
    "collapsed": true
   },
   "outputs": [],
   "source": [
    "ins = Input(shape = (X_train.shape[1],))\n",
    "x = Dense(4096)(ins)\n",
    "x = Activation('relu')(x)\n",
    "x = BatchNormalization()(x)\n",
    "x = Dense(2048)(x)\n",
    "x = Activation('relu')(x)\n",
    "x = BatchNormalization()(x)\n",
    "x = Dense(1024)(x)\n",
    "x = Activation('relu')(x)\n",
    "x = BatchNormalization()(x)\n",
    "outs = Dense(y_train.shape[1], activation = 'softmax')(x)\n",
    "\n",
    "model = Model(ins, outs)"
   ]
  },
  {
   "cell_type": "code",
   "execution_count": 4,
   "metadata": {
    "collapsed": true
   },
   "outputs": [],
   "source": [
    "opt = Adam()\n",
    "model.compile(opt, 'categorical_crossentropy', metrics = ['acc'])\n",
    "stopper = EarlyStopping(monitor='val_acc', patience = 3, mode='auto')\n",
    "checker = ModelCheckpoint('../src/ensemble/reluModels/relu_test_best_8', monitor='val_acc', mode='auto')"
   ]
  },
  {
   "cell_type": "code",
   "execution_count": 5,
   "metadata": {},
   "outputs": [
    {
     "name": "stdout",
     "output_type": "stream",
     "text": [
      "Train on 3428511 samples, validate on 736105 samples\n",
      "Epoch 1/100\n",
      "3428511/3428511 [==============================] - 1757s - loss: 0.0210 - acc: 0.9971 - val_loss: 0.1086 - val_acc: 0.9925\n",
      "Epoch 2/100\n",
      "3428511/3428511 [==============================] - 1716s - loss: 0.0134 - acc: 0.9983 - val_loss: 0.2531 - val_acc: 0.9842\n",
      "Epoch 3/100\n",
      "3428511/3428511 [==============================] - 1716s - loss: 0.0121 - acc: 0.9985 - val_loss: 0.1440 - val_acc: 0.9901\n",
      "Epoch 4/100\n",
      "3428511/3428511 [==============================] - 1717s - loss: 0.0114 - acc: 0.9986 - val_loss: 0.1339 - val_acc: 0.9910\n",
      "Epoch 5/100\n",
      "3428511/3428511 [==============================] - 1717s - loss: 0.0110 - acc: 0.9987 - val_loss: 0.2567 - val_acc: 0.9834\n"
     ]
    },
    {
     "data": {
      "text/plain": [
       "<keras.callbacks.History at 0x7f314faeffd0>"
      ]
     },
     "execution_count": 5,
     "metadata": {},
     "output_type": "execute_result"
    }
   ],
   "source": [
    "model.fit(X_train, y_train,\n",
    "          epochs=100, batch_size=32,\n",
    "          validation_data=(X_val, y_val),\n",
    "          callbacks = [stopper, checker])"
   ]
  },
  {
   "cell_type": "code",
   "execution_count": 2,
   "metadata": {
    "collapsed": true
   },
   "outputs": [],
   "source": [
    "model = load_model('../src/ensemble/relu_best.h5')  # Final model"
   ]
  },
  {
   "cell_type": "code",
   "execution_count": 3,
   "metadata": {},
   "outputs": [
    {
     "name": "stdout",
     "output_type": "stream",
     "text": [
      "_________________________________________________________________\n",
      "Layer (type)                 Output Shape              Param #   \n",
      "=================================================================\n",
      "input_1 (InputLayer)         (None, 122)               0         \n",
      "_________________________________________________________________\n",
      "dense_1 (Dense)              (None, 4096)              503808    \n",
      "_________________________________________________________________\n",
      "activation_1 (Activation)    (None, 4096)              0         \n",
      "_________________________________________________________________\n",
      "batch_normalization_1 (Batch (None, 4096)              16384     \n",
      "_________________________________________________________________\n",
      "dense_2 (Dense)              (None, 2048)              8390656   \n",
      "_________________________________________________________________\n",
      "activation_2 (Activation)    (None, 2048)              0         \n",
      "_________________________________________________________________\n",
      "batch_normalization_2 (Batch (None, 2048)              8192      \n",
      "_________________________________________________________________\n",
      "dense_3 (Dense)              (None, 1024)              2098176   \n",
      "_________________________________________________________________\n",
      "activation_3 (Activation)    (None, 1024)              0         \n",
      "_________________________________________________________________\n",
      "batch_normalization_3 (Batch (None, 1024)              4096      \n",
      "_________________________________________________________________\n",
      "dense_4 (Dense)              (None, 23)                23575     \n",
      "=================================================================\n",
      "Total params: 11,044,887\n",
      "Trainable params: 11,030,551\n",
      "Non-trainable params: 14,336\n",
      "_________________________________________________________________\n"
     ]
    }
   ],
   "source": [
    "model.summary()"
   ]
  },
  {
   "cell_type": "code",
   "execution_count": 4,
   "metadata": {
    "collapsed": true
   },
   "outputs": [],
   "source": [
    "from sklearn.metrics import accuracy_score"
   ]
  },
  {
   "cell_type": "code",
   "execution_count": 5,
   "metadata": {},
   "outputs": [
    {
     "name": "stdout",
     "output_type": "stream",
     "text": [
      "0.998574931565\n"
     ]
    }
   ],
   "source": [
    "val_preds = model.predict(X_val)\n",
    "int_preds_val = np.array([np.argmax(r) for r in val_preds])\n",
    "int_y_val = np.array([np.argmax(r) for r in y_val])\n",
    "val_acc = accuracy_score(int_y_val, int_preds_val)\n",
    "print(val_acc)"
   ]
  },
  {
   "cell_type": "code",
   "execution_count": 6,
   "metadata": {},
   "outputs": [
    {
     "name": "stdout",
     "output_type": "stream",
     "text": [
      "0.998584808391\n"
     ]
    }
   ],
   "source": [
    "train_preds = model.predict(X_train)\n",
    "int_preds_train = np.array([np.argmax(r) for r in train_preds])\n",
    "int_y_train = np.array([np.argmax(r) for r in y_train])\n",
    "train_acc = accuracy_score(int_y_train, int_preds_train)\n",
    "print(train_acc)"
   ]
  },
  {
   "cell_type": "code",
   "execution_count": 7,
   "metadata": {
    "collapsed": true
   },
   "outputs": [],
   "source": [
    "X_test = np.load('../data/X_test.npy', mmap_mode='r')\n",
    "y_test = np.load('../data/y_test_k.npy', mmap_mode='r')"
   ]
  },
  {
   "cell_type": "code",
   "execution_count": 8,
   "metadata": {},
   "outputs": [
    {
     "name": "stdout",
     "output_type": "stream",
     "text": [
      "0.992055218277\n"
     ]
    }
   ],
   "source": [
    "test_preds = model.predict(X_test)\n",
    "int_preds = np.array([np.argmax(r) for r in test_preds])\n",
    "int_y_test = np.array([np.argmax(r) for r in y_test])\n",
    "test_acc = accuracy_score(int_y_test, int_preds)\n",
    "print(test_acc)"
   ]
  },
  {
   "cell_type": "code",
   "execution_count": 10,
   "metadata": {
    "collapsed": true
   },
   "outputs": [],
   "source": [
    "np.save('../data/preds/relu_val_preds', val_preds)\n",
    "np.save('../data/preds/relu_train_preds', train_preds)\n",
    "np.save('../data/preds/relu_test_preds', test_preds)"
   ]
  }
 ],
 "metadata": {
  "kernelspec": {
   "display_name": "Python [conda env:aind]",
   "language": "python",
   "name": "conda-env-aind-py"
  },
  "language_info": {
   "codemirror_mode": {
    "name": "ipython",
    "version": 3
   },
   "file_extension": ".py",
   "mimetype": "text/x-python",
   "name": "python",
   "nbconvert_exporter": "python",
   "pygments_lexer": "ipython3",
   "version": "3.6.0"
  }
 },
 "nbformat": 4,
 "nbformat_minor": 2
}
